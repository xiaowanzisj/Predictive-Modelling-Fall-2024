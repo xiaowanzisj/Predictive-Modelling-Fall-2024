{
 "cells": [
  {
   "cell_type": "code",
   "execution_count": 32,
   "metadata": {},
   "outputs": [],
   "source": [
    "import numpy as np\n",
    "import pandas as pd\n",
    "import matplotlib.pyplot as plt\n",
    "import statsmodels.api as sm\n",
    "from sklearn import linear_model as lm"
   ]
  },
  {
   "cell_type": "code",
   "execution_count": 33,
   "metadata": {},
   "outputs": [],
   "source": [
    "df=pd.read_csv('https://raw.githubusercontent.com/xiaowanzisj/Data-Science-1/refs/heads/main/dataset_lm.csv')"
   ]
  },
  {
   "cell_type": "code",
   "execution_count": 34,
   "metadata": {},
   "outputs": [
    {
     "data": {
      "text/html": [
       "<div>\n",
       "<style scoped>\n",
       "    .dataframe tbody tr th:only-of-type {\n",
       "        vertical-align: middle;\n",
       "    }\n",
       "\n",
       "    .dataframe tbody tr th {\n",
       "        vertical-align: top;\n",
       "    }\n",
       "\n",
       "    .dataframe thead th {\n",
       "        text-align: right;\n",
       "    }\n",
       "</style>\n",
       "<table border=\"1\" class=\"dataframe\">\n",
       "  <thead>\n",
       "    <tr style=\"text-align: right;\">\n",
       "      <th></th>\n",
       "      <th>Dependent Var</th>\n",
       "      <th>Explanatory Var #1</th>\n",
       "      <th>Explanatory Var #2</th>\n",
       "      <th>Explanatory Var #3</th>\n",
       "      <th>Explanatory Var #4</th>\n",
       "      <th>Explanatory Var #5</th>\n",
       "      <th>Explanatory Var #6</th>\n",
       "      <th>Explanatory Var #7</th>\n",
       "      <th>Explanatory Var #8</th>\n",
       "      <th>Explanatory Var #9</th>\n",
       "      <th>Explanatory Var #10</th>\n",
       "      <th>Explanatory Var #11</th>\n",
       "      <th>Explanatory Var #12</th>\n",
       "      <th>Explanatory Var #13</th>\n",
       "      <th>Explanatory Var #14</th>\n",
       "      <th>Explanatory Var #15</th>\n",
       "    </tr>\n",
       "  </thead>\n",
       "  <tbody>\n",
       "    <tr>\n",
       "      <th>0</th>\n",
       "      <td>56.293458</td>\n",
       "      <td>13.698667</td>\n",
       "      <td>50.639873</td>\n",
       "      <td>0</td>\n",
       "      <td>-18.568035</td>\n",
       "      <td>45.121911</td>\n",
       "      <td>11.412501</td>\n",
       "      <td>56.410757</td>\n",
       "      <td>2</td>\n",
       "      <td>-12.281132</td>\n",
       "      <td>38.996909</td>\n",
       "      <td>-3.010548</td>\n",
       "      <td>49.195073</td>\n",
       "      <td>0</td>\n",
       "      <td>-21.153143</td>\n",
       "      <td>46.919314</td>\n",
       "    </tr>\n",
       "    <tr>\n",
       "      <th>1</th>\n",
       "      <td>58.473431</td>\n",
       "      <td>2.714725</td>\n",
       "      <td>65.845845</td>\n",
       "      <td>1</td>\n",
       "      <td>-25.105932</td>\n",
       "      <td>47.190213</td>\n",
       "      <td>10.080280</td>\n",
       "      <td>65.383107</td>\n",
       "      <td>3</td>\n",
       "      <td>-36.763585</td>\n",
       "      <td>51.654939</td>\n",
       "      <td>4.991111</td>\n",
       "      <td>45.591729</td>\n",
       "      <td>0</td>\n",
       "      <td>-6.474403</td>\n",
       "      <td>53.383508</td>\n",
       "    </tr>\n",
       "    <tr>\n",
       "      <th>2</th>\n",
       "      <td>94.195330</td>\n",
       "      <td>11.618072</td>\n",
       "      <td>65.072497</td>\n",
       "      <td>0</td>\n",
       "      <td>-7.897464</td>\n",
       "      <td>52.163036</td>\n",
       "      <td>11.057301</td>\n",
       "      <td>82.812717</td>\n",
       "      <td>0</td>\n",
       "      <td>-15.733547</td>\n",
       "      <td>48.913837</td>\n",
       "      <td>-2.457696</td>\n",
       "      <td>56.608806</td>\n",
       "      <td>0</td>\n",
       "      <td>-27.903299</td>\n",
       "      <td>48.515026</td>\n",
       "    </tr>\n",
       "    <tr>\n",
       "      <th>3</th>\n",
       "      <td>29.074583</td>\n",
       "      <td>0.818623</td>\n",
       "      <td>45.408996</td>\n",
       "      <td>1</td>\n",
       "      <td>-18.316132</td>\n",
       "      <td>54.356714</td>\n",
       "      <td>5.029029</td>\n",
       "      <td>48.812471</td>\n",
       "      <td>1</td>\n",
       "      <td>-12.825591</td>\n",
       "      <td>45.851732</td>\n",
       "      <td>14.974177</td>\n",
       "      <td>47.362594</td>\n",
       "      <td>1</td>\n",
       "      <td>-10.064411</td>\n",
       "      <td>55.266254</td>\n",
       "    </tr>\n",
       "    <tr>\n",
       "      <th>4</th>\n",
       "      <td>86.035569</td>\n",
       "      <td>9.077544</td>\n",
       "      <td>73.548021</td>\n",
       "      <td>0</td>\n",
       "      <td>-19.204165</td>\n",
       "      <td>47.186807</td>\n",
       "      <td>12.128134</td>\n",
       "      <td>62.520911</td>\n",
       "      <td>2</td>\n",
       "      <td>-13.804860</td>\n",
       "      <td>47.765904</td>\n",
       "      <td>9.593982</td>\n",
       "      <td>53.700562</td>\n",
       "      <td>0</td>\n",
       "      <td>-17.546302</td>\n",
       "      <td>48.150543</td>\n",
       "    </tr>\n",
       "  </tbody>\n",
       "</table>\n",
       "</div>"
      ],
      "text/plain": [
       "   Dependent Var  Explanatory Var #1  Explanatory Var #2  Explanatory Var #3  \\\n",
       "0      56.293458           13.698667           50.639873                   0   \n",
       "1      58.473431            2.714725           65.845845                   1   \n",
       "2      94.195330           11.618072           65.072497                   0   \n",
       "3      29.074583            0.818623           45.408996                   1   \n",
       "4      86.035569            9.077544           73.548021                   0   \n",
       "\n",
       "   Explanatory Var #4  Explanatory Var #5  Explanatory Var #6  \\\n",
       "0          -18.568035           45.121911           11.412501   \n",
       "1          -25.105932           47.190213           10.080280   \n",
       "2           -7.897464           52.163036           11.057301   \n",
       "3          -18.316132           54.356714            5.029029   \n",
       "4          -19.204165           47.186807           12.128134   \n",
       "\n",
       "   Explanatory Var #7  Explanatory Var #8  Explanatory Var #9  \\\n",
       "0           56.410757                   2          -12.281132   \n",
       "1           65.383107                   3          -36.763585   \n",
       "2           82.812717                   0          -15.733547   \n",
       "3           48.812471                   1          -12.825591   \n",
       "4           62.520911                   2          -13.804860   \n",
       "\n",
       "   Explanatory Var #10  Explanatory Var #11  Explanatory Var #12  \\\n",
       "0            38.996909            -3.010548            49.195073   \n",
       "1            51.654939             4.991111            45.591729   \n",
       "2            48.913837            -2.457696            56.608806   \n",
       "3            45.851732            14.974177            47.362594   \n",
       "4            47.765904             9.593982            53.700562   \n",
       "\n",
       "   Explanatory Var #13  Explanatory Var #14  Explanatory Var #15  \n",
       "0                    0           -21.153143            46.919314  \n",
       "1                    0            -6.474403            53.383508  \n",
       "2                    0           -27.903299            48.515026  \n",
       "3                    1           -10.064411            55.266254  \n",
       "4                    0           -17.546302            48.150543  "
      ]
     },
     "execution_count": 34,
     "metadata": {},
     "output_type": "execute_result"
    }
   ],
   "source": [
    "df.head()"
   ]
  },
  {
   "cell_type": "code",
   "execution_count": 35,
   "metadata": {},
   "outputs": [
    {
     "data": {
      "text/html": [
       "<div>\n",
       "<style scoped>\n",
       "    .dataframe tbody tr th:only-of-type {\n",
       "        vertical-align: middle;\n",
       "    }\n",
       "\n",
       "    .dataframe tbody tr th {\n",
       "        vertical-align: top;\n",
       "    }\n",
       "\n",
       "    .dataframe thead th {\n",
       "        text-align: right;\n",
       "    }\n",
       "</style>\n",
       "<table border=\"1\" class=\"dataframe\">\n",
       "  <thead>\n",
       "    <tr style=\"text-align: right;\">\n",
       "      <th></th>\n",
       "      <th>Dependent Var</th>\n",
       "      <th>Explanatory Var #1</th>\n",
       "      <th>Explanatory Var #2</th>\n",
       "      <th>Explanatory Var #3</th>\n",
       "      <th>Explanatory Var #4</th>\n",
       "      <th>Explanatory Var #5</th>\n",
       "      <th>Explanatory Var #6</th>\n",
       "      <th>Explanatory Var #7</th>\n",
       "      <th>Explanatory Var #8</th>\n",
       "      <th>Explanatory Var #9</th>\n",
       "      <th>Explanatory Var #10</th>\n",
       "      <th>Explanatory Var #11</th>\n",
       "      <th>Explanatory Var #12</th>\n",
       "      <th>Explanatory Var #13</th>\n",
       "      <th>Explanatory Var #14</th>\n",
       "      <th>Explanatory Var #15</th>\n",
       "    </tr>\n",
       "  </thead>\n",
       "  <tbody>\n",
       "    <tr>\n",
       "      <th>count</th>\n",
       "      <td>422.000000</td>\n",
       "      <td>422.000000</td>\n",
       "      <td>422.000000</td>\n",
       "      <td>422.000000</td>\n",
       "      <td>422.000000</td>\n",
       "      <td>422.000000</td>\n",
       "      <td>422.000000</td>\n",
       "      <td>422.000000</td>\n",
       "      <td>422.000000</td>\n",
       "      <td>422.000000</td>\n",
       "      <td>422.000000</td>\n",
       "      <td>422.000000</td>\n",
       "      <td>422.000000</td>\n",
       "      <td>422.000000</td>\n",
       "      <td>422.000000</td>\n",
       "      <td>422.000000</td>\n",
       "    </tr>\n",
       "    <tr>\n",
       "      <th>mean</th>\n",
       "      <td>67.838396</td>\n",
       "      <td>7.762058</td>\n",
       "      <td>59.725134</td>\n",
       "      <td>0.500000</td>\n",
       "      <td>-16.078411</td>\n",
       "      <td>50.133715</td>\n",
       "      <td>10.420808</td>\n",
       "      <td>61.887309</td>\n",
       "      <td>1.566351</td>\n",
       "      <td>-24.511691</td>\n",
       "      <td>49.728665</td>\n",
       "      <td>7.740874</td>\n",
       "      <td>60.765794</td>\n",
       "      <td>0.500000</td>\n",
       "      <td>-16.673762</td>\n",
       "      <td>50.066901</td>\n",
       "    </tr>\n",
       "    <tr>\n",
       "      <th>std</th>\n",
       "      <td>25.676960</td>\n",
       "      <td>7.013243</td>\n",
       "      <td>9.579112</td>\n",
       "      <td>0.500593</td>\n",
       "      <td>8.111197</td>\n",
       "      <td>6.975674</td>\n",
       "      <td>11.520725</td>\n",
       "      <td>14.819969</td>\n",
       "      <td>1.115260</td>\n",
       "      <td>8.500500</td>\n",
       "      <td>6.910690</td>\n",
       "      <td>7.102714</td>\n",
       "      <td>9.525835</td>\n",
       "      <td>0.500593</td>\n",
       "      <td>8.106466</td>\n",
       "      <td>6.794584</td>\n",
       "    </tr>\n",
       "    <tr>\n",
       "      <th>min</th>\n",
       "      <td>-2.997183</td>\n",
       "      <td>-4.832834</td>\n",
       "      <td>44.124858</td>\n",
       "      <td>0.000000</td>\n",
       "      <td>-29.774797</td>\n",
       "      <td>30.009511</td>\n",
       "      <td>-9.828552</td>\n",
       "      <td>34.093154</td>\n",
       "      <td>0.000000</td>\n",
       "      <td>-39.979696</td>\n",
       "      <td>26.436407</td>\n",
       "      <td>-4.949728</td>\n",
       "      <td>44.158200</td>\n",
       "      <td>0.000000</td>\n",
       "      <td>-29.750628</td>\n",
       "      <td>32.118882</td>\n",
       "    </tr>\n",
       "    <tr>\n",
       "      <th>25%</th>\n",
       "      <td>49.482037</td>\n",
       "      <td>1.720182</td>\n",
       "      <td>51.617692</td>\n",
       "      <td>0.000000</td>\n",
       "      <td>-23.792637</td>\n",
       "      <td>45.423422</td>\n",
       "      <td>-0.174835</td>\n",
       "      <td>49.952772</td>\n",
       "      <td>1.000000</td>\n",
       "      <td>-32.037707</td>\n",
       "      <td>45.283603</td>\n",
       "      <td>1.838210</td>\n",
       "      <td>52.849792</td>\n",
       "      <td>0.000000</td>\n",
       "      <td>-23.797763</td>\n",
       "      <td>45.825931</td>\n",
       "    </tr>\n",
       "    <tr>\n",
       "      <th>50%</th>\n",
       "      <td>66.780110</td>\n",
       "      <td>7.905455</td>\n",
       "      <td>59.735139</td>\n",
       "      <td>0.500000</td>\n",
       "      <td>-15.875481</td>\n",
       "      <td>50.093602</td>\n",
       "      <td>10.422513</td>\n",
       "      <td>62.554591</td>\n",
       "      <td>2.000000</td>\n",
       "      <td>-23.767548</td>\n",
       "      <td>49.842746</td>\n",
       "      <td>8.055297</td>\n",
       "      <td>60.773906</td>\n",
       "      <td>0.500000</td>\n",
       "      <td>-17.373619</td>\n",
       "      <td>50.038667</td>\n",
       "    </tr>\n",
       "    <tr>\n",
       "      <th>75%</th>\n",
       "      <td>86.801496</td>\n",
       "      <td>13.684104</td>\n",
       "      <td>67.870073</td>\n",
       "      <td>1.000000</td>\n",
       "      <td>-9.185191</td>\n",
       "      <td>54.896583</td>\n",
       "      <td>21.059713</td>\n",
       "      <td>74.441216</td>\n",
       "      <td>3.000000</td>\n",
       "      <td>-17.419390</td>\n",
       "      <td>54.576381</td>\n",
       "      <td>14.020396</td>\n",
       "      <td>69.262757</td>\n",
       "      <td>1.000000</td>\n",
       "      <td>-9.627544</td>\n",
       "      <td>54.962602</td>\n",
       "    </tr>\n",
       "    <tr>\n",
       "      <th>max</th>\n",
       "      <td>133.384795</td>\n",
       "      <td>19.973331</td>\n",
       "      <td>76.973576</td>\n",
       "      <td>1.000000</td>\n",
       "      <td>-2.060708</td>\n",
       "      <td>70.365951</td>\n",
       "      <td>29.994610</td>\n",
       "      <td>86.895006</td>\n",
       "      <td>3.000000</td>\n",
       "      <td>-10.129522</td>\n",
       "      <td>68.201681</td>\n",
       "      <td>19.992891</td>\n",
       "      <td>76.639179</td>\n",
       "      <td>1.000000</td>\n",
       "      <td>-2.003168</td>\n",
       "      <td>69.147818</td>\n",
       "    </tr>\n",
       "  </tbody>\n",
       "</table>\n",
       "</div>"
      ],
      "text/plain": [
       "       Dependent Var  Explanatory Var #1  Explanatory Var #2  \\\n",
       "count     422.000000          422.000000          422.000000   \n",
       "mean       67.838396            7.762058           59.725134   \n",
       "std        25.676960            7.013243            9.579112   \n",
       "min        -2.997183           -4.832834           44.124858   \n",
       "25%        49.482037            1.720182           51.617692   \n",
       "50%        66.780110            7.905455           59.735139   \n",
       "75%        86.801496           13.684104           67.870073   \n",
       "max       133.384795           19.973331           76.973576   \n",
       "\n",
       "       Explanatory Var #3  Explanatory Var #4  Explanatory Var #5  \\\n",
       "count          422.000000          422.000000          422.000000   \n",
       "mean             0.500000          -16.078411           50.133715   \n",
       "std              0.500593            8.111197            6.975674   \n",
       "min              0.000000          -29.774797           30.009511   \n",
       "25%              0.000000          -23.792637           45.423422   \n",
       "50%              0.500000          -15.875481           50.093602   \n",
       "75%              1.000000           -9.185191           54.896583   \n",
       "max              1.000000           -2.060708           70.365951   \n",
       "\n",
       "       Explanatory Var #6  Explanatory Var #7  Explanatory Var #8  \\\n",
       "count          422.000000          422.000000          422.000000   \n",
       "mean            10.420808           61.887309            1.566351   \n",
       "std             11.520725           14.819969            1.115260   \n",
       "min             -9.828552           34.093154            0.000000   \n",
       "25%             -0.174835           49.952772            1.000000   \n",
       "50%             10.422513           62.554591            2.000000   \n",
       "75%             21.059713           74.441216            3.000000   \n",
       "max             29.994610           86.895006            3.000000   \n",
       "\n",
       "       Explanatory Var #9  Explanatory Var #10  Explanatory Var #11  \\\n",
       "count          422.000000           422.000000           422.000000   \n",
       "mean           -24.511691            49.728665             7.740874   \n",
       "std              8.500500             6.910690             7.102714   \n",
       "min            -39.979696            26.436407            -4.949728   \n",
       "25%            -32.037707            45.283603             1.838210   \n",
       "50%            -23.767548            49.842746             8.055297   \n",
       "75%            -17.419390            54.576381            14.020396   \n",
       "max            -10.129522            68.201681            19.992891   \n",
       "\n",
       "       Explanatory Var #12  Explanatory Var #13  Explanatory Var #14  \\\n",
       "count           422.000000           422.000000           422.000000   \n",
       "mean             60.765794             0.500000           -16.673762   \n",
       "std               9.525835             0.500593             8.106466   \n",
       "min              44.158200             0.000000           -29.750628   \n",
       "25%              52.849792             0.000000           -23.797763   \n",
       "50%              60.773906             0.500000           -17.373619   \n",
       "75%              69.262757             1.000000            -9.627544   \n",
       "max              76.639179             1.000000            -2.003168   \n",
       "\n",
       "       Explanatory Var #15  \n",
       "count           422.000000  \n",
       "mean             50.066901  \n",
       "std               6.794584  \n",
       "min              32.118882  \n",
       "25%              45.825931  \n",
       "50%              50.038667  \n",
       "75%              54.962602  \n",
       "max              69.147818  "
      ]
     },
     "execution_count": 35,
     "metadata": {},
     "output_type": "execute_result"
    }
   ],
   "source": [
    "df.describe()"
   ]
  },
  {
   "cell_type": "code",
   "execution_count": 36,
   "metadata": {},
   "outputs": [
    {
     "name": "stdout",
     "output_type": "stream",
     "text": [
      "<class 'pandas.core.frame.DataFrame'>\n",
      "RangeIndex: 422 entries, 0 to 421\n",
      "Data columns (total 16 columns):\n",
      " #   Column               Non-Null Count  Dtype  \n",
      "---  ------               --------------  -----  \n",
      " 0   Dependent Var        422 non-null    float64\n",
      " 1   Explanatory Var #1   422 non-null    float64\n",
      " 2   Explanatory Var #2   422 non-null    float64\n",
      " 3   Explanatory Var #3   422 non-null    int64  \n",
      " 4   Explanatory Var #4   422 non-null    float64\n",
      " 5   Explanatory Var #5   422 non-null    float64\n",
      " 6   Explanatory Var #6   422 non-null    float64\n",
      " 7   Explanatory Var #7   422 non-null    float64\n",
      " 8   Explanatory Var #8   422 non-null    int64  \n",
      " 9   Explanatory Var #9   422 non-null    float64\n",
      " 10  Explanatory Var #10  422 non-null    float64\n",
      " 11  Explanatory Var #11  422 non-null    float64\n",
      " 12  Explanatory Var #12  422 non-null    float64\n",
      " 13  Explanatory Var #13  422 non-null    int64  \n",
      " 14  Explanatory Var #14  422 non-null    float64\n",
      " 15  Explanatory Var #15  422 non-null    float64\n",
      "dtypes: float64(13), int64(3)\n",
      "memory usage: 52.9 KB\n"
     ]
    }
   ],
   "source": [
    "df.info()"
   ]
  },
  {
   "cell_type": "code",
   "execution_count": 37,
   "metadata": {},
   "outputs": [
    {
     "data": {
      "text/plain": [
       "(422, 16)"
      ]
     },
     "execution_count": 37,
     "metadata": {},
     "output_type": "execute_result"
    }
   ],
   "source": [
    "df.shape"
   ]
  },
  {
   "cell_type": "markdown",
   "metadata": {},
   "source": [
    "# Part C"
   ]
  },
  {
   "cell_type": "code",
   "execution_count": 38,
   "metadata": {},
   "outputs": [],
   "source": [
    "from sklearn.model_selection import train_test_split\n",
    "from sklearn.linear_model import Lasso"
   ]
  },
  {
   "cell_type": "code",
   "execution_count": 39,
   "metadata": {},
   "outputs": [],
   "source": [
    "# Split the dataset into two as the training and test sets\n",
    "y = df['Dependent Var']\n",
    "X = df.drop('Dependent Var', axis=1)\n",
    "X_train, X_test, y_train, y_test = train_test_split(X, y, test_size=0.5, random_state=42)"
   ]
  },
  {
   "cell_type": "code",
   "execution_count": 41,
   "metadata": {},
   "outputs": [],
   "source": [
    "# Run the Lasso model with alpha=1 and estimate the coefficients using the training set\n",
    "model_lasso = lm.Lasso(alpha=1).fit(X_train,y_train)"
   ]
  },
  {
   "cell_type": "code",
   "execution_count": 44,
   "metadata": {},
   "outputs": [
    {
     "data": {
      "text/plain": [
       "array([ 1.26972628,  1.68394638,  2.02626245,  2.08756512, -0.91746375,\n",
       "       -0.        ,  0.        , -0.        ,  0.        , -0.        ,\n",
       "        0.01314162,  0.        , -0.        ,  0.        , -0.03617731])"
      ]
     },
     "execution_count": 44,
     "metadata": {},
     "output_type": "execute_result"
    }
   ],
   "source": [
    "model_lasso.coef_"
   ]
  },
  {
   "cell_type": "markdown",
   "metadata": {},
   "source": [
    "Lasso has set some coefficients to zero, indicating that these variables may not contribute significantly to the model. "
   ]
  },
  {
   "cell_type": "code",
   "execution_count": 45,
   "metadata": {},
   "outputs": [
    {
     "data": {
      "text/plain": [
       "np.float64(0.04432190198291586)"
      ]
     },
     "execution_count": 45,
     "metadata": {},
     "output_type": "execute_result"
    }
   ],
   "source": [
    "# Calculate the mean absolute percentage error using the test set\n",
    "from sklearn.metrics import mean_absolute_percentage_error\n",
    "\n",
    "# Predict on the test set using the fitted Lasso model\n",
    "y_pred = model_lasso.predict(X_test)\n",
    "\n",
    "# Calculate the Mean Absolute Percentage Error \n",
    "mape = mean_absolute_percentage_error(y_test, y_pred)\n",
    "mape\n"
   ]
  },
  {
   "cell_type": "markdown",
   "metadata": {},
   "source": [
    "1. The Mean Absolute Percentage Error (MAPE), which indicates the average percentage error between the predicted and actual values in the test set for the Lasso model on the test set, is approximately 4.43%. \n",
    "2. A 4.43% MAPE number seems reasonable, only depending on the context and the specific field or industry where the data comes from. \n"
   ]
  },
  {
   "cell_type": "code",
   "execution_count": 48,
   "metadata": {},
   "outputs": [
    {
     "data": {
      "text/plain": [
       "array([ 1.07859582,  1.58170805,  0.        ,  1.93984057, -0.73184967,\n",
       "       -0.        ,  0.        , -0.        ,  0.        , -0.        ,\n",
       "        0.        ,  0.        , -0.        , -0.        , -0.        ])"
      ]
     },
     "execution_count": 48,
     "metadata": {},
     "output_type": "execute_result"
    }
   ],
   "source": [
    "# Try alpha=10 first to check how the MAPE value changes \n",
    "model_lasso_10 = lm.Lasso(alpha=10).fit(X_train,y_train)\n",
    "model_lasso_10.coef_"
   ]
  },
  {
   "cell_type": "code",
   "execution_count": 50,
   "metadata": {},
   "outputs": [
    {
     "data": {
      "text/plain": [
       "np.float64(0.08587094351590434)"
      ]
     },
     "execution_count": 50,
     "metadata": {},
     "output_type": "execute_result"
    }
   ],
   "source": [
    "y_pred = model_lasso_10.predict(X_test)\n",
    "mape = mean_absolute_percentage_error(y_test, y_pred)\n",
    "mape"
   ]
  },
  {
   "cell_type": "markdown",
   "metadata": {},
   "source": [
    "The MAPE value increases significantly to 8.59% "
   ]
  },
  {
   "cell_type": "code",
   "execution_count": 52,
   "metadata": {},
   "outputs": [
    {
     "data": {
      "text/plain": [
       "array([ 1.29954993e+00,  1.69972328e+00,  6.07547327e+00,  2.09998671e+00,\n",
       "       -9.01138066e-01, -2.76774698e-04,  1.39022392e-04, -1.29553546e-03,\n",
       "        1.28574039e-04, -1.91998438e-04,  9.64691394e-04,  1.51252792e-04,\n",
       "       -7.24514808e-03,  4.88963422e-05, -1.75560566e-03])"
      ]
     },
     "execution_count": 52,
     "metadata": {},
     "output_type": "execute_result"
    }
   ],
   "source": [
    "# Apply Ridge Regression to our data\n",
    "from sklearn.linear_model import Ridge\n",
    "model_ridge = lm.Ridge(alpha=1).fit(X_train,y_train)\n",
    "model_ridge.coef_"
   ]
  },
  {
   "cell_type": "code",
   "execution_count": 53,
   "metadata": {},
   "outputs": [],
   "source": [
    "# Predict on the test set using the fitted Ridge model\n",
    "y_pred_ridge = model_ridge.predict(X_test)"
   ]
  },
  {
   "cell_type": "code",
   "execution_count": 54,
   "metadata": {},
   "outputs": [
    {
     "data": {
      "text/plain": [
       "np.float64(0.0013183099780280923)"
      ]
     },
     "execution_count": 54,
     "metadata": {},
     "output_type": "execute_result"
    }
   ],
   "source": [
    "# Calculate the MAPE for the Ridge model\n",
    "mape_ridge = mean_absolute_percentage_error(y_test, y_pred_ridge)\n",
    "mape_ridge"
   ]
  },
  {
   "cell_type": "markdown",
   "metadata": {},
   "source": [
    "the MAPE decreased significantly to 0.13%"
   ]
  },
  {
   "cell_type": "code",
   "execution_count": 55,
   "metadata": {},
   "outputs": [
    {
     "data": {
      "text/plain": [
       "(np.float64(0.17143335132581347), np.float64(0.007598538060298686))"
      ]
     },
     "execution_count": 55,
     "metadata": {},
     "output_type": "execute_result"
    }
   ],
   "source": [
    "# Use LassoCV to find the optimal alpha to minimize MAPE\n",
    "from sklearn.linear_model import LassoCV\n",
    "\n",
    "# Setting cv=5 for cross-validation\n",
    "model_lasso_cv = LassoCV(alphas=None, cv=5, random_state=42)\n",
    "model_lasso_cv.fit(X_train, y_train)\n",
    "\n",
    "# Predict on the test set with the optimal alpha found by cross-validation\n",
    "y_pred_cv = model_lasso_cv.predict(X_test)\n",
    "\n",
    "# Calculate the MAPE with this optimal alpha\n",
    "optimal_alpha = model_lasso_cv.alpha_\n",
    "mape_cv = mean_absolute_percentage_error(y_test, y_pred_cv)\n",
    "optimal_alpha, mape_cv\n",
    "\n"
   ]
  },
  {
   "cell_type": "markdown",
   "metadata": {},
   "source": [
    "1. The results from LassoCV mean that when alpha=0.171, the MAPE is 0.76%，improved a lot from 4.43% when alpha was set at 1. \n",
    "2. However, the minimal MAPE from Lasso model which is around 0.76% is still higher than that from Ridge Regression model which is 0.13%. It suggests Ridge provides more accurate predictions on this dataset. This could be due to Ridge Regression’s ability to handle multicollinearity without setting coefficients to zero, effectively utilizing all features for a smoother fit. "
   ]
  },
  {
   "cell_type": "code",
   "execution_count": null,
   "metadata": {},
   "outputs": [],
   "source": []
  },
  {
   "cell_type": "code",
   "execution_count": null,
   "metadata": {},
   "outputs": [],
   "source": []
  },
  {
   "cell_type": "code",
   "execution_count": null,
   "metadata": {},
   "outputs": [],
   "source": []
  },
  {
   "cell_type": "code",
   "execution_count": null,
   "metadata": {},
   "outputs": [],
   "source": []
  }
 ],
 "metadata": {
  "kernelspec": {
   "display_name": "Python 3",
   "language": "python",
   "name": "python3"
  },
  "language_info": {
   "codemirror_mode": {
    "name": "ipython",
    "version": 3
   },
   "file_extension": ".py",
   "mimetype": "text/x-python",
   "name": "python",
   "nbconvert_exporter": "python",
   "pygments_lexer": "ipython3",
   "version": "3.10.7"
  }
 },
 "nbformat": 4,
 "nbformat_minor": 2
}
